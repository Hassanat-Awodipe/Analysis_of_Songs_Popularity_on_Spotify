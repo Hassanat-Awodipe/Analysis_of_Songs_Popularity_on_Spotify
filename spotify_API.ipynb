{
 "cells": [
  {
   "cell_type": "markdown",
   "id": "9259f9b8-cfb8-46b4-85ca-6edc4e362da4",
   "metadata": {},
   "source": [
    "I. Import all the python packages needed:"
   ]
  },
  {
   "cell_type": "code",
   "execution_count": 2,
   "id": "538e083b-1a3c-4135-affe-62193415bf69",
   "metadata": {},
   "outputs": [],
   "source": [
    "import csv\n",
    "from pprint import pprint as pp\n",
    "import spotipy\n",
    "from spotipy.oauth2 import SpotifyClientCredentials\n",
    "import pandas as pd\n",
    "import re\n",
    "import country_converter as coco\n",
    "import seaborn as sns\n",
    "import matplotlib.pyplot as plt\n",
    "import numpy as np"
   ]
  },
  {
   "cell_type": "markdown",
   "id": "a029674d-14a8-47c0-bb2f-ef92fabab67b",
   "metadata": {},
   "source": [
    "II. Extract information needed (splitted into three components) and combine it into a csv file for analysis"
   ]
  },
  {
   "cell_type": "markdown",
   "id": "47a99532-f9b0-411a-83e2-d89e5587987a",
   "metadata": {},
   "source": [
    "Component A: Spotify API "
   ]
  },
  {
   "cell_type": "markdown",
   "id": "d855c069-ea52-4688-b8af-811cf596a0e7",
   "metadata": {},
   "source": [
    "Step1: Setup for Spotify API"
   ]
  },
  {
   "cell_type": "code",
   "execution_count": 5,
   "id": "4be2fc1f-526f-43f8-b264-d0c390076e4a",
   "metadata": {},
   "outputs": [],
   "source": [
    "client_id = \"\" # Enter your own client_id\n",
    "client_secret = \"\" # Enter your own client_secret\n",
    "\n",
    "sp = spotipy.Spotify(auth_manager=SpotifyClientCredentials(client_id, client_secret))\n",
    "\n",
    "# a long playlist with random songs is chosen\n",
    "playlist_id = '5S8SJdl1BDc0ugpkEvFsIL'"
   ]
  },
  {
   "cell_type": "markdown",
   "id": "b4afa6d3-c639-45e5-a2d3-3cd1044bacb2",
   "metadata": {},
   "source": [
    "Step2: Fetch track informaion for all the tracks in the playlist."
   ]
  },
  {
   "cell_type": "markdown",
   "id": "2fdb6add-5ea7-4f79-af10-6a4763fd987d",
   "metadata": {},
   "source": [
    "Step2a: Save these information in track_feature.csv"
   ]
  },
  {
   "cell_type": "code",
   "execution_count": null,
   "id": "925628eb-a69b-4846-8f8a-23d793217ffb",
   "metadata": {},
   "outputs": [],
   "source": [
    "def songs_in_playlist(playlist_id):\n",
    "    field_names = ['song', 'track_id', 'release_date', 'song_popularity', 'duration(ms)', 'explicit', 'artist_name',\n",
    "                   'artist_id']\n",
    "    with open('track_feature.csv', 'w', encoding='utf-8', newline='') as f:\n",
    "        writer = csv.writer(f)\n",
    "        writer.writerow(field_names)\n",
    "        len_playlist = sp.playlist(playlist_id)['tracks']['total']\n",
    "        limit = 100\n",
    "        tracks = []\n",
    "        for i in range(0, len_playlist, limit):\n",
    "            \n",
    "            # fetch trackinformation in the playlist\n",
    "            # offset - the index of the first item to return\n",
    "            playlist = sp.playlist_items(playlist_id, offset=i)['items']\n",
    "\n",
    "            \n",
    "            for playlist_info in playlist:\n",
    "                track_info = playlist_info['track']\n",
    "                song_name = track_info['name']\n",
    "                \n",
    "                # neglect songs without a name\n",
    "                if song_name == '':\n",
    "                    continue\n",
    "\n",
    "                artist_info = track_info['artists']\n",
    "                \n",
    "                # neglect collaborated songs\n",
    "                if len(artist_info) != 1:\n",
    "                    continue\n",
    "\n",
    "                for artist in artist_info:\n",
    "                    artist_name = artist['name']\n",
    "\n",
    "                # search for the song with highest popularity, as it's not ranked in spotify API\n",
    "                # spotify takes queries with upto 100 characters\n",
    "                query = 'artist:{} track:{}'.format(artist_name, song_name)[0:100]\n",
    "                # take the first 10 entries\n",
    "                track_info = sp.search(q=query, type='track', limit=10)['tracks']['items']\n",
    "                # find the teack with highest popularity\n",
    "                song_popularity = 0\n",
    "\n",
    "                for info_test in track_info:\n",
    "                    print(info_test)\n",
    "                    artist_info = info_test['artists']\n",
    "                    if len(artist_info) != 1:\n",
    "                        continue\n",
    "\n",
    "                    if info_test['popularity'] > song_popularity:\n",
    "                        info = info_test\n",
    "                        song_popularity = info_test['popularity']\n",
    "\n",
    "                song_popularity = info['popularity']\n",
    "\n",
    "                artist_name = artist_info[0]['name']\n",
    "                artist_id = artist_info[0]['id']\n",
    "\n",
    "                release_date = info['album']['release_date']\n",
    "                explicit = info['explicit']\n",
    "                duration_ms = info['duration_ms']\n",
    "                song_name = info['name']\n",
    "                track_id = info['id']\n",
    "\n",
    "                info_list = [song_name, track_id, release_date, song_popularity, duration_ms, explicit, artist_name,\n",
    "                             artist_id]\n",
    "                tracks.append(info_list)\n",
    "                # pp(info_list)\n",
    "        # pp(tracks)\n",
    "        writer.writerows(tracks)\n",
    "        f.close()\n",
    "\n",
    "    return tracks\n",
    "\n",
    "songs_in_playlist(longest_playlist_id)"
   ]
  },
  {
   "cell_type": "markdown",
   "id": "d94fd356-5327-4c85-925a-0defd9a75c96",
   "metadata": {},
   "source": [
    "Step2b: Drop dulplicates. \n",
    "\n",
    "Save the file without duplicates in track_feature_cleaned.csv"
   ]
  },
  {
   "cell_type": "code",
   "execution_count": 61,
   "id": "4172ac10-934d-4ba7-91b1-0ab648c96c43",
   "metadata": {},
   "outputs": [],
   "source": [
    "df = pd.read_csv(\"track_feature.csv\").drop_duplicates(subset=['track_id'])\n",
    "df.to_csv('track_feature_cleaned.csv', index=False)"
   ]
  },
  {
   "cell_type": "markdown",
   "id": "de920da3-f7a7-46c0-8b46-18ba8e237050",
   "metadata": {},
   "source": [
    "Step2c: Sometimes different artists have the same name. We remove those entries with artists having the same name but different artist_id's. \n",
    "\n",
    "Save the file in track_feature_final.csv"
   ]
  },
  {
   "cell_type": "code",
   "execution_count": 49,
   "id": "f3fdf395-ea76-4af7-9418-dca735fbce7e",
   "metadata": {},
   "outputs": [],
   "source": [
    "# sort the entries by artist_name and artist_id, to safe running time\n",
    "# (same names will be next to each other, no need to go through entire list for each entry)\n",
    "df = pd.read_csv(\"track_feature_cleaned.csv\").sort_values(by=[\"artist_name\", 'artist_id'], ascending=[True, True])\n",
    "\n",
    "artist_name = df.iat[0, 6]\n",
    "artist_id = df.iat[0, 7]\n",
    "drop_list = []\n",
    "\n",
    "# put all the clashed names in drop_list\n",
    "for i in range(1, len(df.index)):\n",
    "    artist_name_test = df.iat[i, 6]\n",
    "    artist_id_test = df.iat[i, 7]\n",
    "    if artist_name_test == artist_name and artist_id_test != artist_id:\n",
    "        drop_list.append(artist_id)\n",
    "        drop_list.append(artist_id_test)\n",
    "    artist_name = artist_name_test\n",
    "    artist_id = artist_id_test\n",
    "\n",
    "drop_list = list(set(drop_list))\n",
    "# print(drop_list)\n",
    "\n",
    "# drop all the entries with artist_name in the drop_list\n",
    "for row in df.index:\n",
    "    if df.loc[row, \"artist_id\"] in drop_list:\n",
    "        df.drop(row, inplace=True)\n",
    "\n",
    "df.to_csv('track_feature_final.csv', index=False)"
   ]
  },
  {
   "cell_type": "markdown",
   "id": "521479f2-9da9-49df-8269-3ba02cc8610c",
   "metadata": {},
   "source": [
    "Step3: Combine spotify track information with spotify artist information."
   ]
  },
  {
   "cell_type": "markdown",
   "id": "23a57e3c-f30c-46f5-bb01-710ab28e3c5b",
   "metadata": {},
   "source": [
    "Step3a: Fetch artist informaion for all the artists in track_feature_final.csv and combine it with this file. \n",
    "\n",
    "Save it into track_artist_features.csv."
   ]
  },
  {
   "cell_type": "code",
   "execution_count": null,
   "id": "ae4ed408-14b5-4c85-bfc7-4f679361c22f",
   "metadata": {},
   "outputs": [],
   "source": [
    "df = pd.read_csv(\"track_feature_final.csv\")\n",
    "follower_no_dic = {}\n",
    "genres_dic = {}\n",
    "artist_popularity_dic = {}\n",
    "\n",
    "artist_id_list = df['artist_id'].tolist()\n",
    "# some srtists have multiple songs in the playlist\n",
    "# we avoid going through same artist information for multiple times by removing duplicates\n",
    "artist_id_list = list(set(artist_id_list))\n",
    "\n",
    "for artist_id in artist_id_list:\n",
    "    # fetch information of the artist\n",
    "    artist_info = sp.artist(artist_id)\n",
    "    \n",
    "    # the running time could be long, print is to check it's running rather than in sleep mode\n",
    "    print(artist_info)\n",
    "    follower_no_dic[artist_id] = artist_info['followers']['total']\n",
    "    artist_popularity_dic[artist_id] = artist_info['popularity']\n",
    "    genres_dic[artist_id] = artist_info['genres']\n",
    "\n",
    "df['artist_follower_no'] = df['artist_id'].map(follower_no_dic)\n",
    "df['artist_genres'] = df['artist_id'].map(genres_dic)\n",
    "df['artist_popularity'] = df['artist_id'].map(artist_popularity_dic)\n",
    "\n",
    "df.to_csv('track_artist_features.csv', index=False)"
   ]
  },
  {
   "cell_type": "markdown",
   "id": "7197321b-f58e-4605-8ef8-6f39b5737acb",
   "metadata": {},
   "source": [
    "Step3b: Some artists don't have a genre in spotify API, and it would appear as [], we change it to empty.\n",
    "\n",
    "Save the file as track_artist_features_final.csv"
   ]
  },
  {
   "cell_type": "code",
   "execution_count": null,
   "id": "b4af5395-90d2-4f4f-b58e-8459f977619b",
   "metadata": {},
   "outputs": [],
   "source": [
    "df = pd.read_csv(\"track_artist_features.csv\")\n",
    "for row in df.index:\n",
    "    if df.loc[row, 'artist_genres'] == '[]':\n",
    "        df.loc[row, 'artist_genres'] = 'N/A'\n",
    "df.to_csv('track_artist_features_final.csv', index=False)"
   ]
  },
  {
   "cell_type": "markdown",
   "id": "2dfbd366-eb83-4ac9-a208-7487e77128cb",
   "metadata": {},
   "source": [
    "Step4: Combine spotify audio feature information with spotify track information and spotify artist information."
   ]
  },
  {
   "cell_type": "markdown",
   "id": "d7f6addf-b98b-4e58-b599-51fe904ccf1b",
   "metadata": {},
   "source": [
    "Step4a: Fetch audio feature for all the tracks in track_artist_features_final.csv and combine it with this file. \n",
    "\n",
    "Save it into track_artist_audio_features.csv"
   ]
  },
  {
   "cell_type": "code",
   "execution_count": null,
   "id": "31c222f0-cb26-4127-b931-ec184433c25a",
   "metadata": {},
   "outputs": [],
   "source": [
    "df = pd.read_csv(\"track_artist_features_final.csv\")\n",
    "acousticness = {}\n",
    "danceability = {}\n",
    "energy = {}\n",
    "instrumentalness = {}\n",
    "key = {}\n",
    "liveness = {}\n",
    "loudness = {}\n",
    "mode = {}\n",
    "speechiness = {}\n",
    "tempo = {}\n",
    "time_signature = {}\n",
    "valence = {}\n",
    "\n",
    "track_id_list = df['track_id'].tolist()\n",
    "\n",
    "for track_id in track_id_list:\n",
    "    # fetch the audio feature information\n",
    "    track_infos = sp.audio_features(track_id)\n",
    "    \n",
    "    # the running time could be long, print is to check it's running rather than in sleep mode\n",
    "    print(track_infos)\n",
    "    for track_info in track_infos:\n",
    "        # allows the function to continue if nothing could be fetched\n",
    "        if track_info is None:\n",
    "            acousticness[track_id] = 'N/A'\n",
    "            danceability[track_id] = 'N/A'\n",
    "            energy[track_id] = 'N/A'\n",
    "            instrumentalness[track_id] = 'N/A'\n",
    "            key[track_id] = 'N/A'\n",
    "            liveness[track_id] = 'N/A'\n",
    "            loudness[track_id] = 'N/A'\n",
    "            mode[track_id] = 'N/A'\n",
    "            speechiness[track_id] = 'N/A'\n",
    "            tempo[track_id] = 'N/A'\n",
    "            time_signature[track_id] = 'N/A'\n",
    "            valence[track_id] = 'N/A'\n",
    "            continue\n",
    "        acousticness[track_id] = track_info['acousticness']\n",
    "        danceability[track_id] = track_info['danceability']\n",
    "        energy[track_id] = track_info['energy']\n",
    "        instrumentalness[track_id] = track_info['instrumentalness']\n",
    "        key[track_id] = track_info['key']\n",
    "        liveness[track_id] = track_info['liveness']\n",
    "        loudness[track_id] = track_info['loudness']\n",
    "        mode[track_id] = track_info['mode']\n",
    "        speechiness[track_id] = track_info['speechiness']\n",
    "        tempo[track_id] = track_info['tempo']\n",
    "        time_signature[track_id] = track_info['time_signature']\n",
    "        valence[track_id] = track_info['valence']\n",
    "\n",
    "df['acousticness'] = df['track_id'].map(acousticness)\n",
    "df['danceability'] = df['track_id'].map(danceability)\n",
    "df['energy'] = df['track_id'].map(energy)\n",
    "df['instrumentalness'] = df['track_id'].map(instrumentalness)\n",
    "df['key'] = df['track_id'].map(key)\n",
    "df['liveness'] = df['track_id'].map(liveness)\n",
    "df['loudness'] = df['track_id'].map(loudness)\n",
    "df['mode'] = df['track_id'].map(mode)\n",
    "df['speechiness'] = df['track_id'].map(speechiness)\n",
    "df['tempo'] = df['track_id'].map(tempo)\n",
    "df['time_signature'] = df['track_id'].map(time_signature)\n",
    "df['valence'] = df['track_id'].map(valence)\n",
    "\n",
    "df.to_csv('track_artist_audio_features.csv', index=False)"
   ]
  },
  {
   "cell_type": "markdown",
   "id": "5a5d9244-1506-4e0c-84e6-7bde8ff80fb5",
   "metadata": {},
   "source": [
    "Step4b: Some tracks can't be properly analysed. In spotify API, time_signature could only have values larger or equal to 3 (equal to 3 indicates 3/8). This is likely to be caused by white noise music, which are unlikely to have correct measurements for other parameters, hence we remove these values. \n",
    "\n",
    "We save this file in track_artist_audio_features_final.csv"
   ]
  },
  {
   "cell_type": "code",
   "execution_count": 75,
   "id": "2e4646bf-8e14-4744-92ef-c412cbf5d627",
   "metadata": {},
   "outputs": [],
   "source": [
    "df = pd.read_csv(\"track_artist_audio_features.csv\")\n",
    "for row in df.index:\n",
    "    if df.loc[row, 'time_signature'] < 3:\n",
    "        df.loc[row, 'acousticness'] = ''\n",
    "        df.loc[row, 'danceability'] = ''\n",
    "        df.loc[row, 'energy'] = ''\n",
    "        df.loc[row, 'instrumentalness'] = ''\n",
    "        df.loc[row, 'key'] = ''\n",
    "        df.loc[row, 'liveness'] = ''\n",
    "        df.loc[row, 'loudness'] = ''\n",
    "        df.loc[row, 'mode'] = ''\n",
    "        df.loc[row, 'speechiness'] = ''\n",
    "        df.loc[row, 'tempo'] = ''\n",
    "        df.loc[row, 'time_signature'] = ''\n",
    "        df.loc[row, 'valence'] = ''\n",
    "\n",
    "df.to_csv('track_artist_audio_features_final.csv', index=False)"
   ]
  }
 ],
 "metadata": {
  "kernelspec": {
   "display_name": "Python 3 (ipykernel)",
   "language": "python",
   "name": "python3"
  },
  "language_info": {
   "codemirror_mode": {
    "name": "ipython",
    "version": 3
   },
   "file_extension": ".py",
   "mimetype": "text/x-python",
   "name": "python",
   "nbconvert_exporter": "python",
   "pygments_lexer": "ipython3",
   "version": "3.10.0"
  }
 },
 "nbformat": 4,
 "nbformat_minor": 5
}
